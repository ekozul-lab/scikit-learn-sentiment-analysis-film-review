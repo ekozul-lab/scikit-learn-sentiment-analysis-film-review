{
 "cells": [
  {
   "cell_type": "code",
   "execution_count": 1,
   "id": "76bf0970",
   "metadata": {},
   "outputs": [],
   "source": [
    "# membaca file, kemudian teksnya disimpan ke dalam list\n",
    "\n",
    "import numpy\n",
    "import pandas\n",
    "import os\n",
    "\n",
    "row_list = []\n",
    "for subdir in ['bagus','jelek']:\n",
    "    for folder, subfolders, filenames in os.walk('review_film/'+subdir):\n",
    "        for file in filenames:  \n",
    "            d = {'class':subdir}  \n",
    "            with open('review_film/'+subdir+'/'+file) as f:\n",
    "                if f.read():      \n",
    "                    f.seek(0)\n",
    "                    d['text'] = f.read()  \n",
    "            row_list.append(d)\n",
    "        break"
   ]
  },
  {
   "cell_type": "code",
   "execution_count": 2,
   "id": "4d3369c9",
   "metadata": {},
   "outputs": [],
   "source": [
    "# list teks tersebut disimpan ke dalam dataframe\n",
    "\n",
    "dataframe = pandas.DataFrame(row_list)"
   ]
  },
  {
   "cell_type": "code",
   "execution_count": 3,
   "id": "027860b6",
   "metadata": {},
   "outputs": [
    {
     "data": {
      "text/html": [
       "<div>\n",
       "<style scoped>\n",
       "    .dataframe tbody tr th:only-of-type {\n",
       "        vertical-align: middle;\n",
       "    }\n",
       "\n",
       "    .dataframe tbody tr th {\n",
       "        vertical-align: top;\n",
       "    }\n",
       "\n",
       "    .dataframe thead th {\n",
       "        text-align: right;\n",
       "    }\n",
       "</style>\n",
       "<table border=\"1\" class=\"dataframe\">\n",
       "  <thead>\n",
       "    <tr style=\"text-align: right;\">\n",
       "      <th></th>\n",
       "      <th>class</th>\n",
       "      <th>text</th>\n",
       "    </tr>\n",
       "  </thead>\n",
       "  <tbody>\n",
       "    <tr>\n",
       "      <th>0</th>\n",
       "      <td>bagus</td>\n",
       "      <td>films adapted from comic books have had plenty...</td>\n",
       "    </tr>\n",
       "    <tr>\n",
       "      <th>1</th>\n",
       "      <td>bagus</td>\n",
       "      <td>every now and then a movie comes along from a ...</td>\n",
       "    </tr>\n",
       "    <tr>\n",
       "      <th>2</th>\n",
       "      <td>bagus</td>\n",
       "      <td>you've got mail works alot better than it dese...</td>\n",
       "    </tr>\n",
       "    <tr>\n",
       "      <th>3</th>\n",
       "      <td>bagus</td>\n",
       "      <td>\" jaws \" is a rare film that grabs your atten...</td>\n",
       "    </tr>\n",
       "    <tr>\n",
       "      <th>4</th>\n",
       "      <td>bagus</td>\n",
       "      <td>moviemaking is a lot like being the general ma...</td>\n",
       "    </tr>\n",
       "  </tbody>\n",
       "</table>\n",
       "</div>"
      ],
      "text/plain": [
       "   class                                               text\n",
       "0  bagus  films adapted from comic books have had plenty...\n",
       "1  bagus  every now and then a movie comes along from a ...\n",
       "2  bagus  you've got mail works alot better than it dese...\n",
       "3  bagus   \" jaws \" is a rare film that grabs your atten...\n",
       "4  bagus  moviemaking is a lot like being the general ma..."
      ]
     },
     "execution_count": 3,
     "metadata": {},
     "output_type": "execute_result"
    }
   ],
   "source": [
    "# melihat isi dataframe\n",
    "\n",
    "dataframe.head()"
   ]
  },
  {
   "cell_type": "code",
   "execution_count": 4,
   "id": "382f7230",
   "metadata": {},
   "outputs": [],
   "source": [
    "# ekstraksi fitur pada teks\n",
    "\n",
    "from sklearn.feature_extraction.text import CountVectorizer\n",
    "\n",
    "count_vectorizer = CountVectorizer()\n",
    "counts = count_vectorizer.fit_transform(dataframe['text'])"
   ]
  },
  {
   "cell_type": "code",
   "execution_count": 5,
   "id": "8c11bd8a",
   "metadata": {},
   "outputs": [
    {
     "data": {
      "text/plain": [
       "MultinomialNB()"
      ]
     },
     "execution_count": 5,
     "metadata": {},
     "output_type": "execute_result"
    }
   ],
   "source": [
    "# menerapkan Multinomial Naive Bayes\n",
    "from sklearn.naive_bayes import MultinomialNB\n",
    "\n",
    "classifier = MultinomialNB()\n",
    "targets = dataframe['class']\n",
    "classifier.fit(counts, targets)"
   ]
  },
  {
   "cell_type": "code",
   "execution_count": 6,
   "id": "b1622157",
   "metadata": {
    "scrolled": true
   },
   "outputs": [
    {
     "name": "stdout",
     "output_type": "stream",
     "text": [
      "['jelek' 'bagus']\n"
     ]
    }
   ],
   "source": [
    "# membuat prediksi untuk 2 contoh (jelek dan bagus)\n",
    "examples = [\"the law of crowd pleasing romantic movies states that the two leads must end up togetherby film's end .if you're not familiar with this law , then maybe you've seen the trailer for this film which shows that the two leads are together by film's end . now if you're a regular reader of mine , you've heard me say this countless times : you know how drive me crazy is going to end , but is the journey to get to that ending worth it ? no , it definitely is not . melissa joan hart ( from abc's  sabrina , the teenage witch  ) likes a hunky stud on the basketball team . adrien grenier is her grungy neighbor who's just broken up with his activist girlfriend . apparently he wants to make his ex-girlfriend jealous enough to take him back , and she wants someone to take her to the big year end dance .\"\n",
    "            , \"this three hour movie opens up with a view of singer/guitar player/musician/composer frank zappa rehearsing with his fellow band members . all the rest displays a compilation of footage , mostly from the concert at the palladium in new york city , halloween 1979 . other footage shows backstage foolishness , and amazing clay animation by bruce bickford . the performance of \\\" titties and beer \\\" played in this movie is very entertaining , with drummer terry bozzio supplying the voice of the devil . frank's guitar solos outdo any van halen or hendrix i've ever heard . bruce bickford's outlandish clay animation is that beyond belief with zooms , morphings , etc . and actually , it doesn't even look like clay , it looks like meat .\"]\n",
    "example_counts = count_vectorizer.transform(examples)\n",
    "predictions = classifier.predict(example_counts)\n",
    "print(predictions)\n",
    "\n",
    "\n",
    "##Untuk memprediksi review pada soal nomor 2, yaitu dengan kode di bawah ini:\n",
    "\n",
    "#tes = [\"the law of crowd pleasing romantic movies states that the two leads must end up togetherby film's end .if you're not familiar with this law , then maybe you've seen the trailer for this film which shows that the two leads are together by film's end . now if you're a regular reader of mine , you've heard me say this countless times : you know how drive me crazy is going to end , but is the journey to get to that ending worth it ? no , it definitely is not . melissa joan hart ( from abc's  sabrina , the teenage witch  ) likes a hunky stud on the basketball team . adrien grenier is her grungy neighbor who's just broken up with his activist girlfriend . apparently he wants to make his ex-girlfriend jealous enough to take him back , and she wants someone to take her to the big year end dance .\"]\n",
    "#tes_counts = count_vectorizer.transform(tes)\n",
    "#predictions = classifier.predict(tes_counts)\n",
    "#print(predictions)\n"
   ]
  },
  {
   "cell_type": "code",
   "execution_count": 7,
   "id": "101e4c51",
   "metadata": {},
   "outputs": [
    {
     "data": {
      "text/plain": [
       "array(['jelek', 'bagus'], dtype='<U5')"
      ]
     },
     "execution_count": 7,
     "metadata": {},
     "output_type": "execute_result"
    }
   ],
   "source": [
    "#opsi1\n",
    "# membuat pipeline untuk contoh tersebut\n",
    "from sklearn.pipeline import Pipeline\n",
    "\n",
    "pipeline = Pipeline([\n",
    "    ('vectorizer',  CountVectorizer()),\n",
    "    ('classifier',  MultinomialNB()) ])\n",
    "#------------------------------------------------------------\n",
    "\n",
    "#opsi2\n",
    "##Memperbaiki akurasinya dengan memperbaiki pipeline. \n",
    "##Diterapkan n-gram, 1 sampai 2, atau disebut juga bigram count. Yang berarti satu sampai dua kata yang akan di Vectorize. \n",
    "##from sklearn.pipeline import Pipeline\n",
    "\n",
    "##pipeline = Pipeline([\n",
    "##    ('count_vectorizer', CountVectorizer(ngram_range=(1, 2))),\n",
    "##    ('classifier',       MultinomialNB())\n",
    "##])\n",
    "#------------------------------------------------------------\n",
    "\n",
    "#opsi3\n",
    "###Menerapkan TfidfTransformer.\n",
    "###from sklearn.feature_extraction.text import TfidfTransformer\n",
    "\n",
    "###pipeline = Pipeline([\n",
    "###    ('count_vectorizer',   CountVectorizer(ngram_range=(1,  2))),\n",
    "###    ('tfidf_transformer',  TfidfTransformer()),\n",
    "###    ('classifier',         MultinomialNB())\n",
    "###])\n",
    "#------------------------------------------------------------\n",
    "\n",
    "#opsi4\n",
    "####Menerapkan classifier Bernoulli Naïve Bayes.\n",
    "####from sklearn.naive_bayes import BernoulliNB\n",
    "\n",
    "####pipeline = Pipeline([\n",
    "####    ('count_vectorizer',   CountVectorizer(ngram_range=(1, 2))),\n",
    "####    ('classifier',         BernoulliNB(binarize=0.0)) ])\n",
    "#------------------------------------------------------------\n",
    "\n",
    "pipeline.fit(dataframe['text'], dataframe['class'])\n",
    "pipeline.predict(examples)"
   ]
  },
  {
   "cell_type": "code",
   "execution_count": 8,
   "id": "897cff9b",
   "metadata": {},
   "outputs": [
    {
     "name": "stdout",
     "output_type": "stream",
     "text": [
      "Total review classified: 1000\n",
      "Score: 0.8106198824589629\n",
      "Confusion matrix:\n",
      "[[395 105]\n",
      " [ 87 413]]\n"
     ]
    }
   ],
   "source": [
    "# validasi atau model selection KFold\n",
    "from sklearn.model_selection import KFold\n",
    "from sklearn.metrics import confusion_matrix, f1_score\n",
    "\n",
    "k_fold = KFold(n_splits=6, random_state=None, shuffle=True)\n",
    "scores = []\n",
    "confusion = numpy.array([[0, 0], [0, 0]])\n",
    "for train_indices, test_indices in k_fold.split(dataframe):\n",
    "    train_text = dataframe.iloc[train_indices]['text']\n",
    "    train_y = dataframe.iloc[train_indices]['class']\n",
    "\n",
    "    test_text = dataframe.iloc[test_indices]['text']\n",
    "    test_y = dataframe.iloc[test_indices]['class']\n",
    "\n",
    "    pipeline.fit(train_text, train_y)\n",
    "    predictions = pipeline.predict(test_text)\n",
    "\n",
    "    confusion += confusion_matrix(test_y, predictions)\n",
    "    score = f1_score(test_y, predictions, pos_label=\"jelek\")\n",
    "    scores.append(score)\n",
    "\n",
    "print('Total review classified:', len(dataframe))\n",
    "print('Score:', sum(scores)/len(scores))\n",
    "print('Confusion matrix:')\n",
    "print(confusion)"
   ]
  },
  {
   "cell_type": "code",
   "execution_count": 9,
   "id": "3e830717",
   "metadata": {},
   "outputs": [
    {
     "name": "stdout",
     "output_type": "stream",
     "text": [
      "['jelek']\n"
     ]
    }
   ],
   "source": [
    "#Untuk memprediksi review lainnya, yaitu dengan kode di bawah ini:\n",
    "\n",
    "tes = [\"the law of crowd pleasing romantic movies states that the two leads must end up togetherby film's end .if you're not familiar with this law , then maybe you've seen the trailer for this film which shows that the two leads are together by film's end . now if you're a regular reader of mine , you've heard me say this countless times : you know how drive me crazy is going to end , but is the journey to get to that ending worth it ? no , it definitely is not . melissa joan hart ( from abc's  sabrina , the teenage witch  ) likes a hunky stud on the basketball team . adrien grenier is her grungy neighbor who's just broken up with his activist girlfriend . apparently he wants to make his ex-girlfriend jealous enough to take him back , and she wants someone to take her to the big year end dance .\"]\n",
    "tes_counts = count_vectorizer.transform(tes)\n",
    "predictions = classifier.predict(tes_counts)\n",
    "print(predictions)\n"
   ]
  },
  {
   "cell_type": "code",
   "execution_count": null,
   "id": "3d2b1fed",
   "metadata": {},
   "outputs": [],
   "source": []
  }
 ],
 "metadata": {
  "kernelspec": {
   "display_name": "Python 3 (ipykernel)",
   "language": "python",
   "name": "python3"
  },
  "language_info": {
   "codemirror_mode": {
    "name": "ipython",
    "version": 3
   },
   "file_extension": ".py",
   "mimetype": "text/x-python",
   "name": "python",
   "nbconvert_exporter": "python",
   "pygments_lexer": "ipython3",
   "version": "3.9.6"
  }
 },
 "nbformat": 4,
 "nbformat_minor": 5
}
